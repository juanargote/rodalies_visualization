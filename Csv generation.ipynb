{
 "metadata": {
  "name": "",
  "signature": "sha256:053bbe03db163ae6e3bfd710c91d6b9af085e3c434596d2ade0dac44300511b2"
 },
 "nbformat": 3,
 "nbformat_minor": 0,
 "worksheets": [
  {
   "cells": [
    {
     "cell_type": "code",
     "collapsed": false,
     "input": [
      "import json\n",
      "import csv\n",
      "\n",
      "with open('Inbound/Location_20140808_inicio_0817.txt') as loc_file:    \n",
      "    loc_data = json.load(loc_file)\n",
      "with open('Inbound/Exist_20140808_inicio_0817.txt') as exist_file:    \n",
      "    exist_data = json.load(exist_file)\n",
      "with open('Inbound/Sensors_20140808_inicio_0817.txt') as sensor_file:    \n",
      "    sensor_data = json.load(sensor_file)\n",
      "    \n",
      "f = csv.writer(open(\"Inbound/location.csv\", \"w+\"))\n",
      "f.writerow(loc_data[0].keys())\n",
      "for d in loc_data:\n",
      "    f.writerow(d.values())\n",
      "\n",
      "f = csv.writer(open(\"Inbound/exist.csv\", \"w+\"))\n",
      "f.writerow(exist_data[0].keys())\n",
      "for d in exist_data:\n",
      "    f.writerow(d.values())\n",
      "    \n",
      "f = csv.writer(open(\"Inbound/sensor.csv\", \"w+\"))\n",
      "f.writerow(sensor_data[0].keys())\n",
      "for d in sensor_data:\n",
      "    f.writerow(d.values())"
     ],
     "language": "python",
     "metadata": {},
     "outputs": [],
     "prompt_number": 7
    },
    {
     "cell_type": "code",
     "collapsed": false,
     "input": [
      "with open('Outbound/Location_20140808_inicio_0647.txt') as loc_file:    \n",
      "    loc_data = json.load(loc_file)\n",
      "with open('Outbound/Exist_20140808_inicio_0647.txt') as exist_file:    \n",
      "    exist_data = json.load(exist_file)\n",
      "with open('Outbound/Sensors_20140808_inicio_0647.txt') as sensor_file:    \n",
      "    sensor_data = json.load(sensor_file)\n",
      "    \n",
      "f = csv.writer(open(\"Outbound/location.csv\", \"w+\"))\n",
      "f.writerow(loc_data[0].keys())\n",
      "for d in loc_data:\n",
      "    f.writerow(d.values())\n",
      "\n",
      "f = csv.writer(open(\"Outbound/exist.csv\", \"w+\"))\n",
      "f.writerow(exist_data[0].keys())\n",
      "for d in exist_data:\n",
      "    f.writerow(d.values())\n",
      "    \n",
      "f = csv.writer(open(\"Outbound/sensor.csv\", \"w+\"))\n",
      "f.writerow(sensor_data[0].keys())\n",
      "for d in sensor_data:\n",
      "    f.writerow(d.values())"
     ],
     "language": "python",
     "metadata": {},
     "outputs": [],
     "prompt_number": 8
    },
    {
     "cell_type": "code",
     "collapsed": false,
     "input": [],
     "language": "python",
     "metadata": {},
     "outputs": [],
     "prompt_number": 5
    },
    {
     "cell_type": "code",
     "collapsed": false,
     "input": [],
     "language": "python",
     "metadata": {},
     "outputs": []
    }
   ],
   "metadata": {}
  }
 ]
}